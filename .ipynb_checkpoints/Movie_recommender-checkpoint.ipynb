{
 "cells": [
  {
   "cell_type": "code",
   "execution_count": 5,
   "id": "f4da467b",
   "metadata": {},
   "outputs": [
    {
     "name": "stdout",
     "output_type": "stream",
     "text": [
      "Versión pandas: 1.3.4\n",
      "Versión Numpy: 1.21.2\n"
     ]
    }
   ],
   "source": [
    "#Importar librerias\n",
    "import pandas as pd\n",
    "import numpy as np\n",
    "import string\n",
    "\n",
    "#Mostramos versiones\n",
    "print(\"Versión pandas: \" + pd.__version__)\n",
    "print(\"Versión Numpy: \" + np.__version__)"
   ]
  },
  {
   "cell_type": "code",
   "execution_count": null,
   "id": "5633f363",
   "metadata": {},
   "outputs": [],
   "source": []
  }
 ],
 "metadata": {
  "kernelspec": {
   "display_name": "Python 3 (ipykernel)",
   "language": "python",
   "name": "python3"
  },
  "language_info": {
   "codemirror_mode": {
    "name": "ipython",
    "version": 3
   },
   "file_extension": ".py",
   "mimetype": "text/x-python",
   "name": "python",
   "nbconvert_exporter": "python",
   "pygments_lexer": "ipython3",
   "version": "3.8.8"
  }
 },
 "nbformat": 4,
 "nbformat_minor": 5
}
